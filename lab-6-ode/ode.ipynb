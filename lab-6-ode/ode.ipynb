{
 "cells": [
  {
   "cell_type": "markdown",
   "id": "6852c418-97fb-494f-bb43-39d246d1838e",
   "metadata": {},
   "source": [
    "# Работа №1. Нежесткие системы ОДУ. "
   ]
  },
  {
   "cell_type": "markdown",
   "id": "9a6759cc-7d6e-48e4-b124-bfeafee18ccc",
   "metadata": {},
   "source": [
    "## Задача  \n",
    "Изучите поведение численного решения ОДУ второго порядка (уравнения Ван-дер-Поля):\n",
    "\n",
    "$y'' + e(y^2-1)y' + y = 0$\n",
    "\n",
    "представленного в виде системы двуъ ОДУ первого порядка:\n",
    "\n",
    "$y_{1}(t)' = y_{2}(t)$\n",
    "\n",
    "$y_{2}(t)' = e(1-y_{1}^2)y_{2}-y_{1}$, $e = 5$\n",
    "\n",
    "1. $y_{1}(0) = 2$\n",
    "2. $y_{2}(0) = 0$\n",
    "3. $0 < t < T$, $T = 101$\n",
    "\n",
    "Решить методами второго порядка и выше: \n",
    "1) Метод Рунге-Кутта явный\n",
    "2) Метод Адамса\n",
    "3) Метод ФДН"
   ]
  },
  {
   "cell_type": "code",
   "execution_count": null,
   "id": "7b903fa0-327b-4d79-9bd4-62804f135597",
   "metadata": {},
   "outputs": [],
   "source": [
    "import matplotlib.pyplot as plt\n",
    "import numpy as np\n",
    "import scipy.optimize as op"
   ]
  },
  {
   "cell_type": "markdown",
   "id": "181a9723-33d8-4921-a522-d3716bfe0c46",
   "metadata": {},
   "source": [
    "Начальные данные и правая часть: "
   ]
  },
  {
   "cell_type": "code",
   "execution_count": null,
   "id": "e7d8f91f-baf4-448f-aad7-b2f068fdb98f",
   "metadata": {},
   "outputs": [],
   "source": [
    "y0 = np.array([2, 0])\n",
    "\n",
    "def f(t, y):\n",
    "    return np.array([y[1], 5 * (1 - y[0]*y[0]) * y[1] - y[0]])"
   ]
  },
  {
   "cell_type": "markdown",
   "id": "c93806b1-e1a1-4af2-b95a-e1faa6c60804",
   "metadata": {},
   "source": [
    "## 1. Метод Рунге-Кутта\n",
    "Будем использовать метод Хойна третьего порядка апроксимации.\n",
    "|         |     |         |         |         |\n",
    "|---------|-----|---------|---------|---------|\n",
    "| $c_{1}$ | 0   | 0       | 0       | 0       |\n",
    "| $c_{2}$ | 1/3 | 1/3     | 0       | 0       |\n",
    "| $c_{3}$ | 2/3 | 0       | 2/3     | 0       |\n",
    "|         |     | 1/4     | 0       | 3/4     |\n",
    "|         |     | $b_{1}$ | $b_{2}$ | $b_{3}$ |"
   ]
  },
  {
   "cell_type": "markdown",
   "id": "602c94f3-2d52-471f-82ac-f755bd9a177a",
   "metadata": {},
   "source": [
    "#### Функция метода: "
   ]
  },
  {
   "cell_type": "code",
   "execution_count": null,
   "id": "4fd6ba57-c82d-46a7-9212-9f658e78814e",
   "metadata": {},
   "outputs": [],
   "source": [
    "def rungekutta_iter(y, t, tau, idx):\n",
    "    k1 = tau * f(t[idx], y[idx])\n",
    "    k2 = tau * f(t[idx] + tau/2, y[idx] + k1/2)\n",
    "    k3 = tau * f(t[idx] + tau, y[idx] - k1 + 2 * k2)\n",
    "    return y[idx] + (k1 + 4 * k2 + k3) / 6\n",
    "\n",
    "def rungekutta(y0, tau, T):\n",
    "    t = np.arange(0, T, tau)\n",
    "    n = int(T/tau)\n",
    "    y = np.zeros((n, len(y0)))\n",
    "    \n",
    "    y[0] = y0\n",
    "\n",
    "    for idx in range(n-1):\n",
    "        y[idx+1] = rungekutta_iter(y, t, tau, idx)\n",
    "\n",
    "    return t, y"
   ]
  },
  {
   "cell_type": "markdown",
   "id": "b209bd01-7303-4b05-a675-2124fade7d9b",
   "metadata": {},
   "source": [
    "#### Решение с $\\tau = 0.01, T = 100$"
   ]
  },
  {
   "cell_type": "code",
   "execution_count": null,
   "id": "876e399f-df40-4e2f-95a6-2e31b8ed221d",
   "metadata": {},
   "outputs": [],
   "source": [
    "t_r, y_r = rungekutta(y0, 0.01, 100) "
   ]
  },
  {
   "cell_type": "markdown",
   "id": "558d734d-87eb-4639-86dd-ff2a99862408",
   "metadata": {},
   "source": [
    "### Построение графиков:"
   ]
  },
  {
   "cell_type": "code",
   "execution_count": null,
   "id": "65a5031d-c421-4ea1-ac35-4faa77b893e6",
   "metadata": {},
   "outputs": [],
   "source": [
    "def graph(t, y, ind):\n",
    "    \n",
    "    plt.figure(figsize=[10, 4])\n",
    "    plt.plot(t[:len(y)], y[:,ind], 'b-')\n",
    "    \n",
    "    plt.title(f\"y{ind}(t)\")\n",
    "    plt.grid()\n",
    "    plt.xlabel('y')\n",
    "    plt.ylabel('t')\n",
    "\n",
    "    plt.show()\n",
    "\n",
    "graph(t_r, y_r, 0)\n",
    "graph(t_r, y_r, 1)"
   ]
  },
  {
   "cell_type": "markdown",
   "id": "a9bbeaf2-921a-4749-811c-24b924a0118c",
   "metadata": {},
   "source": [
    "### Фазовые диаграммы:"
   ]
  },
  {
   "cell_type": "code",
   "execution_count": null,
   "id": "76d8db66-873f-4ca1-afab-d1188498bc4c",
   "metadata": {},
   "outputs": [],
   "source": [
    "def phase_diag(t, y):\n",
    "    \n",
    "    plt.figure(figsize=[5, 5])\n",
    "    \n",
    "    plt.plot(y[:,0], y[:,1], 'b-')\n",
    "    \n",
    "    plt.title(\"Phase diagram\")\n",
    "    plt.grid()\n",
    "    plt.xlabel('y2')\n",
    "    plt.ylabel('y1')\n",
    "    \n",
    "    plt.show()\n",
    "\n",
    "phase_diag(t_r, y_r)"
   ]
  },
  {
   "cell_type": "markdown",
   "id": "aad64928-5a4f-4af1-9e2c-fd6951522066",
   "metadata": {},
   "source": [
    "### Исследование поведения в зависимости от шага:"
   ]
  },
  {
   "cell_type": "code",
   "execution_count": null,
   "id": "621d31d8-838b-4e76-8c6f-c79932278c74",
   "metadata": {},
   "outputs": [],
   "source": [
    "steps = [0.1, 0.05, 0.025, 0.0125]\n",
    "res = [rungekutta(y0, tau, 100) for tau in steps]\n",
    "\n",
    "fig, axs = plt.subplots(4, figsize=[6, 18])\n",
    "\n",
    "ind = 0\n",
    "for ax in axs.flat:\n",
    "    ax.plot(res[ind][1][:,0], res[ind][1][:,1], 'b-')\n",
    "    \n",
    "    ax.set_title(f\"tau={steps[ind]}\")\n",
    "    ax.grid()\n",
    "    ind += 1\n",
    "\n",
    "plt.show()"
   ]
  },
  {
   "cell_type": "markdown",
   "id": "cc8b924b-ad21-47d7-b60a-c12dc487a970",
   "metadata": {},
   "source": [
    "## 2. Метод Aдамса\n",
    "Используем явный метод третьего порядка аппроксимации:\n",
    "#### $u^{n+1}= u^n + \\tau * (\\frac{55}{24}f^n - \\frac{59}{24}f^{n-1} + \\frac{37}{24}f^{n-2} - \\frac{9}{24}f^{n-3})$"
   ]
  },
  {
   "cell_type": "markdown",
   "id": "60f9a0fb-bc06-447d-a2b3-b25c3a5f9564",
   "metadata": {},
   "source": [
    "#### Функция метода: "
   ]
  },
  {
   "cell_type": "code",
   "execution_count": null,
   "id": "7774e48e-aa70-4911-8580-4739287202fc",
   "metadata": {},
   "outputs": [],
   "source": [
    "def adams(y0, tau, T):\n",
    "    t = np.arange(0, T, tau)\n",
    "    n = int(T/tau)\n",
    "    y = np.zeros((n, len(y0)))\n",
    "    \n",
    "    y[0] = y0\n",
    "    y[1] = rungekutta_iter(y, t, tau, 0)\n",
    "    y[2] = rungekutta_iter(y, t, tau, 1)\n",
    "    y[3] = rungekutta_iter(y, t, tau, 2)\n",
    "    \n",
    "    for idx in range(3, n-1):\n",
    "        f_n   = f(t[idx], y[idx])\n",
    "        f_n_1 = f(t[idx-1], y[idx-1])\n",
    "        f_n_2 = f(t[idx-2], y[idx-2])\n",
    "        f_n_3 = f(t[idx-3], y[idx-3])\n",
    "        y[idx+1] = y[idx] + tau * (55*f_n - 59*f_n_1 + 37*f_n_2 - 9*f_n_3) / 24\n",
    "\n",
    "    return t, y"
   ]
  },
  {
   "cell_type": "markdown",
   "id": "752b333b-12ba-40da-a3c3-cb345ce27f86",
   "metadata": {},
   "source": [
    "### Построение графиков и фазовой диаграммы"
   ]
  },
  {
   "cell_type": "code",
   "execution_count": null,
   "id": "9420699c-7d96-408e-8202-3cfc44b67bd8",
   "metadata": {},
   "outputs": [],
   "source": [
    "t_a, y_a = adams(y0, 0.01, 100)\n",
    "\n",
    "graph(t_a, y_a, 0)\n",
    "graph(t_a, y_a, 1)\n",
    "\n",
    "phase_diag(t_a, y_a)"
   ]
  },
  {
   "cell_type": "markdown",
   "id": "724cceae-838d-4121-9105-350fffac1e9e",
   "metadata": {},
   "source": [
    "### Исследование поведения в зависимости от шага:"
   ]
  },
  {
   "cell_type": "code",
   "execution_count": null,
   "id": "afdabb06-36fc-45f6-9436-76462e0a330f",
   "metadata": {},
   "outputs": [],
   "source": [
    "steps = [0.026, 0.01, 0.005]\n",
    "res = [adams(y0, tau, 100) for tau in steps]\n",
    "\n",
    "fig, axs = plt.subplots(3, figsize=[6, 18])\n",
    "\n",
    "ind = 0\n",
    "for ax in axs.flat:\n",
    "    ax.plot(res[ind][1][:,0], res[ind][1][:,1], 'b-')\n",
    "    \n",
    "    ax.set_title(f\"tau={steps[ind]}\")\n",
    "    ax.grid()\n",
    "    ind += 1\n",
    "\n",
    "plt.show()"
   ]
  },
  {
   "cell_type": "markdown",
   "id": "78307ea2-534a-4fd5-9e56-4e430e2a54e7",
   "metadata": {},
   "source": [
    "### 3. ФДН\n",
    "#### $u^{n+1} + \\sum_{j=1}^{k} {a_{j}u^{n+1-j}} = \\tau \\beta f^{n+1} $\n",
    "\n",
    "Будем использовать Метод Гира третьего порядка аппроксимации.\n",
    "\n",
    "|       |       |        |        |        |\n",
    "|-------|-------|--------|--------|--------|\n",
    "| **k** | **b** | **a0** | **a1** | **a2** |\n",
    "| 4     |  6/11 | -2/11  |  9/11  | -18/11 |\n"
   ]
  },
  {
   "cell_type": "markdown",
   "id": "a5ea5ff9-be08-42a6-8d2e-6c53aad60502",
   "metadata": {},
   "source": [
    "#### Решение системы нелинейных методом Ньютона\n",
    "\n",
    "$ y^{n+1}_{1} + \\sum ... = \\tau\\beta * y^{n+1}_{2}$\n",
    "\n",
    "$ y^{n+1}_{2} + \\sum ... = \\tau\\beta * 5(1 - (y^{n+1}_{1})^2)y^{n+1}_{2} - y^{n+1}_{1}$\n",
    "\n",
    "Опустим индекс n+1 для простоты. \n",
    "\n",
    "$ y_{1} + C_{1} = \\tau\\beta * y_{2}$\n",
    "\n",
    "$ y_{2} + C_{2} = \\tau\\beta * 5(1 - y^2_{1})y_{2} - y_{1}$"
   ]
  },
  {
   "cell_type": "code",
   "execution_count": null,
   "id": "3eb01211-d307-48a5-b31f-e3f6a3e9fda8",
   "metadata": {},
   "outputs": [],
   "source": [
    "def F(y, C, tau, b):\n",
    "    \"\"\"\n",
    "    [y1 - C1 - tau * b * y2, \n",
    "     y2 - C2 - tau * b * (5 * (1 - y1*y1)*y2 - y1)]\n",
    "    \"\"\"\n",
    "    return [y[0] + C[0] - tau * b * y[1], \n",
    "            y[1] + C[1] - tau * b * ( 5 * (1 - y[0]*y[0]) * y[1] - y[0])]\n",
    "\n",
    "def J(y, tau, b):\n",
    "    \"\"\"\n",
    "    Jacoby matrix of the system\n",
    "    \"\"\"\n",
    "    j = np.zeros((2,2))\n",
    "\n",
    "    j[0][0] = +1.0\n",
    "    j[0][1] = -tau * b\n",
    "    j[1][0] = -1.0 + 10 * tau * b * y[0]\n",
    "    j[1][1] = +1.0 - 5 * tau * b * (1 - y[0] * y[0])\n",
    "    \n",
    "    return j\n",
    "\n",
    "def y1_next_iteration_sim(y, C, tau, b):\n",
    "    return tau * b * y[1] - C[0]\n",
    "\n",
    "def y2_next_iteration_sim(y, C, tau, b):\n",
    "    return 5 * tau * b * (1 - y[0]*y[0]) * y[1] - y[0] - C[1]\n",
    "\n",
    "def y1_next_iteration_newton(y, C, tau, b):\n",
    "    j = J(y, tau, b)\n",
    "    return y[0] - (np.linalg.inv(j) @ F(y, C, tau, b))[0]\n",
    "\n",
    "def y2_next_iteration_newton(y, C, tau, b):\n",
    "    j = J(y, tau, b)\n",
    "    return y[1] - (np.linalg.inv(j) @ F(y, C, tau, b))[1]\n",
    "\n",
    "def iterate(y0, y1_next_iteration, y2_next_iteration, C, tau, b):\n",
    "    \"\"\"\n",
    "    Make iterations until desired presicion is achieved.\n",
    "    \"\"\"\n",
    "    prev_y1 = y0[0]\n",
    "    prev_y2 = y0[1]\n",
    "    \n",
    "    next_y1 = y1_next_iteration([prev_y1, prev_y2], C, tau, b)\n",
    "    next_y2 = y2_next_iteration([prev_y1, prev_y2], C, tau, b)\n",
    "\n",
    "    \n",
    "    while abs(next_y1 - prev_y1) > 1E-4 or abs(next_y2 - prev_y2) > 1E-4:\n",
    "    \n",
    "        prev_y1 = next_y1\n",
    "        prev_y2 = next_y2\n",
    "        \n",
    "        next_y1 = y1_next_iteration([prev_y1, prev_y2], C, tau, b)\n",
    "        next_y2 = y2_next_iteration([prev_y1, prev_y2], C, tau, b)\n",
    "        \n",
    "    return [next_y1, next_y2]\n",
    "\n",
    "def newton(y0, C, tau, b):\n",
    "    return iterate(y0, y1_next_iteration_newton, y2_next_iteration_newton, C, tau, b)\n",
    "\n",
    "def sim(y0, C, tau, b):\n",
    "    return iterate(y0, y1_next_iteration_sim, y2_next_iteration_sim, C, tau, b)"
   ]
  },
  {
   "cell_type": "markdown",
   "id": "e4ea19f2-c907-4e1d-9265-6863f7212ce5",
   "metadata": {},
   "source": [
    "#### Функция метода: "
   ]
  },
  {
   "cell_type": "code",
   "execution_count": null,
   "id": "46aa8551-9236-4eec-ab6d-95e6ce6161a9",
   "metadata": {},
   "outputs": [],
   "source": [
    "def fdn(y0, tau, T):\n",
    "    t = np.arange(0, T, tau)\n",
    "    n = int(T/tau)\n",
    "    y = np.zeros((n, len(y0)))\n",
    "    \n",
    "    y[0] = y0\n",
    "    y[1] = rungekutta_iter(y, t, tau, 0)\n",
    "    y[2] = rungekutta_iter(y, t, tau, 1)\n",
    "\n",
    "    for idx in range(2, n-1):\n",
    "\n",
    "        C = (-18/11) * y[idx] + (9/11) * y[idx-1] + (-2/11) * y[idx-2]\n",
    "        y[idx+1] = newton(y[idx], C, tau, 6/11)\n",
    "    \n",
    "    return t, y"
   ]
  },
  {
   "cell_type": "markdown",
   "id": "e63fc80b-eb6b-4752-8b5b-de5b390ad162",
   "metadata": {},
   "source": [
    "### Построение графиков и фазовой диаграммы"
   ]
  },
  {
   "cell_type": "code",
   "execution_count": null,
   "id": "46c110f6-e5e4-4778-976c-c22646f8ef05",
   "metadata": {},
   "outputs": [],
   "source": [
    "t_a, y_a = fdn(y0, 0.01, 100)"
   ]
  },
  {
   "cell_type": "code",
   "execution_count": null,
   "id": "5bb8d1bc-6b03-44f7-9c62-e9e9b8b9ed17",
   "metadata": {},
   "outputs": [],
   "source": [
    "graph(t_a, y_a, 0)\n",
    "graph(t_a, y_a, 1)\n",
    "\n",
    "phase_diag(t_a, y_a)"
   ]
  },
  {
   "cell_type": "markdown",
   "id": "9988ab62-f271-4c77-8216-34d256781773",
   "metadata": {},
   "source": [
    "### Исследование поведения в зависимости от шага:"
   ]
  },
  {
   "cell_type": "code",
   "execution_count": null,
   "id": "2baa28e2-93bf-498d-822f-7a263b033810",
   "metadata": {},
   "outputs": [],
   "source": [
    "steps = [0.15, 0.1, 0.01, 0.005]\n",
    "res = [fdn(y0, tau, 100) for tau in steps]\n",
    "\n",
    "fig, axs = plt.subplots(3, figsize=[6, 18])\n",
    "\n",
    "ind = 0\n",
    "for ax in axs.flat:\n",
    "    ax.plot(res[ind][1][:,0], res[ind][1][:,1], 'b-')\n",
    "    \n",
    "    ax.set_title(f\"tau={steps[ind]}\")\n",
    "    ax.grid()\n",
    "    ind += 1\n",
    "\n",
    "plt.show()"
   ]
  },
  {
   "cell_type": "code",
   "execution_count": null,
   "id": "f1f9635c-6195-4793-879e-f0addd721356",
   "metadata": {},
   "outputs": [],
   "source": []
  }
 ],
 "metadata": {
  "kernelspec": {
   "display_name": "Python 3 (ipykernel)",
   "language": "python",
   "name": "python3"
  },
  "language_info": {
   "codemirror_mode": {
    "name": "ipython",
    "version": 3
   },
   "file_extension": ".py",
   "mimetype": "text/x-python",
   "name": "python",
   "nbconvert_exporter": "python",
   "pygments_lexer": "ipython3",
   "version": "3.9.6"
  }
 },
 "nbformat": 4,
 "nbformat_minor": 5
}
