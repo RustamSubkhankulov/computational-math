{
 "cells": [
  {
   "cell_type": "markdown",
   "id": "538af623-038b-4dc4-bf27-503078f3468a",
   "metadata": {},
   "source": [
    "# Жесткие системы ОДУ "
   ]
  },
  {
   "cell_type": "markdown",
   "id": "2fa8ba11-ea38-4a2b-959f-1ac421ca2080",
   "metadata": {},
   "source": [
    "## Задача  \n",
    "Модель дифференциации растительной ткани\n",
    "\n",
    "Данный пример - типичный случай биохимической модели\n",
    "«умеренной» размерности (современные модели, например, фотосинтеза\n",
    "включают сотни уравнений подобного типа). Хотя данная модель является\n",
    "умеренно жесткой, тем не менее ее лучше решать с помощью методов,\n",
    "предназначенных для решения ЖС ОДУ\n",
    "представленного в виде системы двуъ ОДУ первого порядка:"
   ]
  },
  {
   "attachments": {},
   "cell_type": "markdown",
   "id": "295e64ad-67d9-477f-aa04-61b9440adf7c",
   "metadata": {},
   "source": [
    "<img src='pictures/system.png'>"
   ]
  },
  {
   "cell_type": "markdown",
   "id": "27841ae0-12c4-462d-ac1d-985822be0b49",
   "metadata": {},
   "source": [
    "##### Решить задачу методом второго порядка и выше, а также сравнить с явным методом.\n",
    "1) ##### Неявный метод типа Рунге-Кутты \n",
    "2) ##### Метод Розенброка (Розенброка-Ванера)\n",
    "3) ##### Неявный методы Адамса/ФДН (методы Гира) в представлении Нордсика"
   ]
  },
  {
   "cell_type": "code",
   "execution_count": null,
   "id": "047e10d8-598e-4df3-9dfe-072e9ddbd6c6",
   "metadata": {},
   "outputs": [],
   "source": [
    "import matplotlib.pyplot as plt\n",
    "import numpy as np\n",
    "import scipy.optimize as op\n",
    "import matplotlib.cm as cm"
   ]
  },
  {
   "cell_type": "markdown",
   "id": "62dedc1a-e039-4b59-972d-583453ffe736",
   "metadata": {},
   "source": [
    "Начальные данные и правая часть: "
   ]
  },
  {
   "cell_type": "code",
   "execution_count": null,
   "id": "9610583a-5d21-417b-a27e-e64374bc4545",
   "metadata": {},
   "outputs": [],
   "source": [
    "y0 = np.zeros(8)\n",
    "y0[0] = 1\n",
    "y0[7] = 0.0057\n",
    "\n",
    "Tk = 421.8122\n",
    "\n",
    "def f(t, y):\n",
    "    y1 = - 1.71*y[0] + 0.43*y[1] +  8.23*y[2] + 0.0007\n",
    "    y2 = + 1.71*y[0] - 8.75*y[1]\n",
    "    y3 = -10.03*y[2] + 0.43*y[3] + 0.035*y[4]\n",
    "    y4 = + 8.32*y[1] + 1.71*y[2] -  1.12*y[3] \n",
    "    y5 = -1.745*y[4] + 0.43*y[5] +  0.43*y[6]\n",
    "    y6 = -280*y[5]*y[7] + 0.69*y[3] + 1.71*y[4] - 0.43*y[5] + 0.69*y[6]\n",
    "    y7 = +280*y[5]*y[7] - 1.87*y[6]\n",
    "    y8 = -y7\n",
    "\n",
    "    return np.array([y1, y2, y3, y4, y5, y6, y7, y8])"
   ]
  },
  {
   "cell_type": "markdown",
   "id": "c4440e91-e260-4566-81f4-1b88d9f29185",
   "metadata": {},
   "source": [
    "#### Для сравнения: явный метод Рунге-Кутты второго порядка аппроксимации"
   ]
  },
  {
   "cell_type": "code",
   "execution_count": null,
   "id": "2e993f8d-0ea8-43a7-8051-d3d66961a3fb",
   "metadata": {},
   "outputs": [],
   "source": [
    "def rungekutta2_iter(y, t, tau, idx):\n",
    "    k1 = tau * f(t[idx], y[idx])\n",
    "    k2 = tau * f(t[idx] + tau/2, y[idx] + k1/2)\n",
    "    k3 = tau * f(t[idx] + tau, y[idx] - k1 + 2 * k2)\n",
    "    return y[idx] + (k1 + 4 * k2 + k3) / 6\n",
    "\n",
    "def rungekutta2(y0, tau, T):\n",
    "    t = np.arange(0, T, tau)\n",
    "    n = int(T/tau)\n",
    "    y = np.zeros((n, len(y0)))\n",
    "    \n",
    "    y[0] = y0\n",
    "\n",
    "    for idx in range(n-1):\n",
    "        y[idx+1] = rungekutta2_iter(y, t, tau, idx)\n",
    "\n",
    "    return t, y"
   ]
  },
  {
   "cell_type": "markdown",
   "id": "0ad45028-e868-412d-924a-07a25be0d525",
   "metadata": {},
   "source": [
    "#### Построение графиков"
   ]
  },
  {
   "cell_type": "code",
   "execution_count": null,
   "id": "57a7126f-3988-4a28-b73d-283efb0b270d",
   "metadata": {},
   "outputs": [],
   "source": [
    "def graph(t, y, title, filename):\n",
    "    \n",
    "    plt.figure(figsize=[10, 4])\n",
    "\n",
    "    colors = cm.rainbow(np.linspace(0, 1, len(y[0])))\n",
    "    \n",
    "    for ind in range(len(y[0])):\n",
    "        plt.scatter(t[:len(y)], y[:,ind], color=colors[ind], label=f'y{ind+1}', s=0.1)\n",
    "    \n",
    "    plt.title(title)\n",
    "    plt.grid()\n",
    "    plt.xlabel('y')\n",
    "    plt.ylabel('t')\n",
    "\n",
    "    plt.legend(loc=\"upper right\")\n",
    "    \n",
    "    plt.savefig(filename)"
   ]
  },
  {
   "cell_type": "code",
   "execution_count": null,
   "id": "09511df6-c97b-48ce-9a98-334f2ba585cf",
   "metadata": {},
   "outputs": [],
   "source": [
    "t_rk2, y_rk2 = rungekutta2(y0, 0.015, 50)\n",
    "graph(t_rk2, y_rk2, 'Явный метод Рунге-Кутты 2-го порядка, tau=0.015', 'pictures/rk2.1.png')"
   ]
  },
  {
   "cell_type": "markdown",
   "id": "eb594784-75b0-4304-9a00-a6367cd7485b",
   "metadata": {},
   "source": [
    "<img src='pictures/rk2.1.png'>"
   ]
  },
  {
   "cell_type": "code",
   "execution_count": null,
   "id": "6a48a081-42d1-49b8-b2a1-30be64b30f8c",
   "metadata": {},
   "outputs": [],
   "source": [
    "t_rk2, y_rk2 = rungekutta2(y0, 0.01, 50)\n",
    "graph(t_rk2, y_rk2, 'Явный метод Рунге-Кутты 2-го порядка, tau=0.01', 'pictures/rk2.2.png')"
   ]
  },
  {
   "cell_type": "markdown",
   "id": "93d3440a-1796-4309-80a3-ea90496044da",
   "metadata": {},
   "source": [
    "<img src='pictures/rk2.2.png'>"
   ]
  },
  {
   "cell_type": "markdown",
   "id": "b1bbeb54-5e3e-443f-9a5d-a713c1ef59cd",
   "metadata": {},
   "source": [
    "## 1. Неявный метод Рунге-Кутты"
   ]
  },
  {
   "cell_type": "markdown",
   "id": "97308642-a198-4984-98f7-56ad3fd846f2",
   "metadata": {},
   "source": [
    "$k_{i} = f(t_{n} + c_{i}\\tau, u^n + \\tau\\sum_{j=1}^{r} {a_{ij}k_{j}})$\n",
    "\n",
    "$u^{n+1} = u^n + \\tau(b_{1}k_{1} + ... + b_{r}k_{r})$\n",
    "\n",
    "Будем использовать метод прямоугольников 2-го порядка.\n",
    "\n",
    "|     |     |\n",
    "|-----|-----|\n",
    "| 1/2 | 1/2 |\n",
    "|     | 1   |\n",
    "\n",
    "### $\\frac{u^{n+1} - u^n}{\\tau} = f(u^{n+\\frac{1}{2}}, t_{n+\\frac{1}{2}})$\n",
    "\n",
    "#### $t_{n+\\frac{1}{2}} = \\frac{t_{n+1} + t_{n}}{2}$\n",
    "\n",
    "#### $u^{n+\\frac{1}{2}} = \\frac{u^{n+1} + u^{n}}{2}$\n",
    "\n",
    "Подставив выражения:\n",
    "\n",
    "#### $u^{n+1} = u^n + \\tau f(\\frac{u^{n+1} + u^{n}}{2}, \\frac{t_{n+1} + t_{n}}{2})$\n",
    "\n",
    "Или:\n",
    "\n",
    "#### $u^{n+1} = u^n + \\tau f(\\frac{1}{2}u^{n+1} + \\frac{1}{2}u^{n}, t_{n} + \\frac{1}{2}\\tau)$"
   ]
  },
  {
   "cell_type": "code",
   "execution_count": null,
   "id": "25f863e8-0397-474a-90f9-b18816edd299",
   "metadata": {},
   "outputs": [],
   "source": [
    "class System:\n",
    "    def __init__(self, u_prev, t_prev, tau):\n",
    "        self.u_prev = u_prev\n",
    "        self.t_prev = t_prev\n",
    "        self.tau = tau\n",
    "\n",
    "    def __call__(self, u):\n",
    "        return u - self.u_prev - self.tau * f(self.t_prev + self.tau/2, self.u_prev/2 + u/2)\n",
    "\n",
    "def rect(y0, tau, T):\n",
    "    t = np.arange(0, T, tau)\n",
    "    n = int(T/tau)\n",
    "    y = np.zeros((n, len(y0)))\n",
    "    \n",
    "    y[0] = y0\n",
    "\n",
    "    for idx in range(n-1):\n",
    "        system = System(y[idx], t[idx], tau)\n",
    "        y[idx+1] = op.fsolve(system, y[idx])\n",
    "\n",
    "    return t, y"
   ]
  },
  {
   "cell_type": "markdown",
   "id": "69ad83f0-037b-4ca8-9fa5-8da4c9031169",
   "metadata": {},
   "source": [
    "#### Построение графиков"
   ]
  },
  {
   "cell_type": "code",
   "execution_count": null,
   "id": "ca2737e7-2103-4d77-bf02-cecb510295e3",
   "metadata": {},
   "outputs": [],
   "source": [
    "t_rect, y_rect = rect(y0, 0.01, 50)\n",
    "graph(t_rect, y_rect, 'Метод прямоугольников 2-го порядка', 'pictures/rect.png')"
   ]
  },
  {
   "cell_type": "markdown",
   "id": "e6b8cf8a-3df1-4630-8717-c477efda4538",
   "metadata": {},
   "source": [
    "<img src='pictures/rect.png'>"
   ]
  },
  {
   "cell_type": "markdown",
   "id": "b4dce269-f5c0-4d85-b685-fb217caf0c90",
   "metadata": {},
   "source": [
    "## 2. Метод Розенброка"
   ]
  },
  {
   "cell_type": "markdown",
   "id": "017b9893-7597-4235-9d36-a85a3c43ce26",
   "metadata": {},
   "source": [
    "$k_{i} = \\tau f(u_{n} + \\sum_{j=1}^{i-1}{\\beta_{i,j}k_{j}}) + \\tau B \\sum_{j=1}^{i}{\\mu_{i,j}k_{j}}$\n",
    "\n",
    "$u^{n+1} = u^n + \\sum_{k=1}^{S}{\\gamma_{k}k_{k}}$\n",
    "\n",
    "Схема Розенброка с комплексными коэффициентами\n",
    "второго порядка (CROS)\n",
    "(Е.Н. Аристова, А. И. Лобанов ПРАКТИЧЕСКИЕ ЗАНЯТИЯ ПО ВЫЧИСЛИТЕЛЬНОЙ МАТЕМАТИКЕ В МФТИ, ЧАСТЬ II)\n",
    "\n",
    "$(E-\\frac{1+i}{2}\\tau J)\\omega = f(t^{n} + \\frac{\\tau}{2}, y^{n})$\n",
    "\n",
    "$y^{n+1} = y^{n} + \\tau Re(\\omega)$"
   ]
  },
  {
   "cell_type": "code",
   "execution_count": null,
   "id": "a5457790-f748-4349-b1af-bbea5a00bd98",
   "metadata": {},
   "outputs": [],
   "source": [
    "def get_extended_matrix(matrix, f):\n",
    "  return np.hstack((matrix,np.array([f]).T))\n",
    "\n",
    "def gauss(matrix, f):\n",
    "\n",
    "  ext = get_extended_matrix(matrix, f)  \n",
    "\n",
    "  n = len(matrix)\n",
    "  for i in range(n):\n",
    "\n",
    "      leading = i + np.argmax(np.abs(matrix[:,i][i:]))\n",
    "      ext[[i, leading]] = ext[[leading, i]] \n",
    "\n",
    "      ext[i] /= ext[i][i]\n",
    "      row = ext[i]\n",
    "\n",
    "      for r in ext[i + 1:]:\n",
    "          r -= r[i] * row\n",
    "\n",
    "  for i in range(n - 1, 0, -1):\n",
    "      row = ext[i]\n",
    "      for r in reversed(ext[:i]):\n",
    "          r -= r[i] * row\n",
    "\n",
    "  return ext[:,-1]\n",
    "\n",
    "def J(t, y):\n",
    "    jacobian = np.zeros((8, 8))\n",
    "    \n",
    "    jacobian[0] = [-1.71, 0.43, 8.23, 0, 0, 0, 0, 0]\n",
    "    jacobian[1] = [+1.71, -8.75, 0, 0, 0, 0, 0, 0]\n",
    "    jacobian[2] = [0, 0, -10.03, 0.43, 0.035, 0, 0, 0]\n",
    "    jacobian[3] = [0, 8.32, 1.71, -1.12, 0, 0, 0, 0]\n",
    "    jacobian[4] = [0, 0, 0, 0, -1.745, 0.43, 0.43, 0]\n",
    "    jacobian[5] = [0, 0, 0, 0.69, 1.71, -280*y[7]-0.43, 0.69, -280*y[5]]\n",
    "    jacobian[6] = [0, 0, 0, 0, 0, +280*y[7], -1.87, +280*y[5]]\n",
    "    jacobian[7] = [0, 0, 0, 0, 0, -280*y[7], +1.87, -280*y[5]]\n",
    "\n",
    "    return jacobian\n",
    "    \n",
    "def rosenbrock(y0, tau, T):\n",
    "    t = np.arange(0, T, tau)\n",
    "    n = int(T/tau)\n",
    "    y = np.zeros((n, len(y0)))\n",
    "    \n",
    "    y[0] = y0\n",
    "    matrix = np.eye(len(y0)) - 0.5 * tau * (1+1j) * J(t[0], y[0])\n",
    "    \n",
    "    for idx in range(n-1):\n",
    "        right_side = f(t[idx] + tau/2, y[idx])\n",
    "        y[idx+1] = y[idx] + tau * np.real(gauss(matrix, right_side))\n",
    "\n",
    "    return t, y"
   ]
  },
  {
   "cell_type": "markdown",
   "id": "875fb686-3e23-4e04-a22d-ff94e9740708",
   "metadata": {},
   "source": [
    "#### Построение графиков"
   ]
  },
  {
   "cell_type": "code",
   "execution_count": null,
   "id": "2af1b3c6-cc28-4dc1-a115-7e1cdf2282a2",
   "metadata": {},
   "outputs": [],
   "source": [
    "t_rb, y_rb = rosenbrock(y0, 0.015, 50)\n",
    "graph(t_rb, y_rb, 'Метод Розенброка tau=0.015', 'pictures/rb.1.png')"
   ]
  },
  {
   "cell_type": "markdown",
   "id": "5cdc3e18-5643-431b-b59b-a15304484961",
   "metadata": {},
   "source": [
    "<img src='pictures/rb.1.png'>"
   ]
  },
  {
   "cell_type": "code",
   "execution_count": null,
   "id": "cd98cf00-a3c7-4eb9-b371-7ad2b1601752",
   "metadata": {},
   "outputs": [],
   "source": [
    "t_rb, y_rb = rosenbrock(y0, 0.01, 50)\n",
    "graph(t_rb, y_rb, 'Метод Розенброка tau=0.01', 'pictures/rb.2.png')"
   ]
  },
  {
   "cell_type": "markdown",
   "id": "51f41bd3-3be8-4911-898f-7e9b6f4c4dca",
   "metadata": {},
   "source": [
    "<img src='pictures/rb.2.png'>"
   ]
  },
  {
   "cell_type": "code",
   "execution_count": null,
   "id": "3eb024e0-0c82-474a-8781-2a654c813706",
   "metadata": {},
   "outputs": [],
   "source": [
    "t_rb, y_rb = rosenbrock(y0, 0.005, 50)\n",
    "graph(t_rb, y_rb, 'Метод Розенброка tau=0.005', 'pictures/rb.3.png')"
   ]
  },
  {
   "cell_type": "markdown",
   "id": "0a7833ee-98fc-49fc-8eba-b167c2107389",
   "metadata": {},
   "source": [
    "<img src='pictures/rb.3.png'>"
   ]
  },
  {
   "cell_type": "markdown",
   "id": "3c1d68aa-8bbf-4d87-afdf-2a6f127ccd7f",
   "metadata": {},
   "source": [
    "## 3. Неявный метод Адамса"
   ]
  },
  {
   "cell_type": "markdown",
   "id": "bcabaac6-74c5-4c60-aeb5-5412819224b5",
   "metadata": {},
   "source": [
    "Будем использовать неявный метод адамса третьего порядка\n",
    "\n",
    "$y_{n+1} = y_{n} + \\tau (\\frac{5}{12}f_{n+1} + \\frac{8}{12}f_{n} - \\frac{1}{12}f_{n-1})$"
   ]
  },
  {
   "cell_type": "code",
   "execution_count": null,
   "id": "6a1216d6-e588-4a14-9e9f-d3747e47bd0d",
   "metadata": {},
   "outputs": [],
   "source": [
    "class System:\n",
    "    def __init__(self, t, y, idx, tau):\n",
    "        \n",
    "        self.t = t\n",
    "        self.y = y\n",
    "        self.idx = idx\n",
    "        self.tau = tau\n",
    "\n",
    "    def __call__(self, u):\n",
    "        t = self.t\n",
    "        y = self.y\n",
    "        idx = self.idx\n",
    "        val = (5/12)*f(t[idx+1], u) + (8/12)*f(t[idx], y[idx]) - (1/12)*f(t[idx-1], y[idx-1])\n",
    "        return u - y[idx] - self.tau * val\n",
    "\n",
    "def implicit_adams(y0, tau, T):\n",
    "    t = np.arange(0, T, tau)\n",
    "    n = int(T/tau)\n",
    "    y = np.zeros((n, len(y0)))\n",
    "    \n",
    "    y[0] = y0\n",
    "    y[1] = rungekutta2_iter(y, t, tau, 0)\n",
    "\n",
    "    for idx in range(1, n-1):\n",
    "        system = System(t, y, idx, tau)\n",
    "        y[idx+1] = op.fsolve(system, y[idx])\n",
    "\n",
    "    return t, y"
   ]
  },
  {
   "cell_type": "markdown",
   "id": "90258aec-a6a6-465a-9ae1-f2a13ed2c76d",
   "metadata": {},
   "source": [
    "#### Построение графиков"
   ]
  },
  {
   "cell_type": "code",
   "execution_count": null,
   "id": "12966a0b-6b9b-49c8-867b-6190a8d5de6e",
   "metadata": {},
   "outputs": [],
   "source": [
    "t_ia, y_ia = implicit_adams(y0, 0.04, 50)\n",
    "graph(t_ia, y_ia, 'Неявный метод Адамса tau=0.04', 'pictures/ia.1.png')"
   ]
  },
  {
   "cell_type": "markdown",
   "id": "e9ca4ab0-c09c-4014-80bd-80b051d83d77",
   "metadata": {},
   "source": [
    "<img src='pictures/ia.1.png'>"
   ]
  },
  {
   "cell_type": "code",
   "execution_count": null,
   "id": "05fa7eaf-a8ea-43f2-ac90-615c5b611b0e",
   "metadata": {},
   "outputs": [],
   "source": [
    "t_ia, y_ia = implicit_adams(y0, 0.032, 50)\n",
    "graph(t_ia, y_ia, 'Неявный метод Адамса tau=0.032', 'pictures/ia.2.png')"
   ]
  },
  {
   "cell_type": "markdown",
   "id": "1a5470f9-c2dd-40d2-b069-8b1c97c9bbe5",
   "metadata": {},
   "source": [
    "<img src='pictures/ia.2.png'>"
   ]
  },
  {
   "cell_type": "code",
   "execution_count": null,
   "id": "c80dbf31-a04b-4435-98ac-0e607325a246",
   "metadata": {},
   "outputs": [],
   "source": [
    "t_ia, y_ia = implicit_adams(y0, 0.03, 50)\n",
    "graph(t_ia, y_ia, 'Неявный метод Адамса tau=0.03', 'pictures/ia.3.png')"
   ]
  },
  {
   "cell_type": "markdown",
   "id": "4a10b0f5-2db5-4be8-b0eb-d2a5859e0ad4",
   "metadata": {},
   "source": [
    "<img src='pictures/ia.3.png'>"
   ]
  },
  {
   "cell_type": "code",
   "execution_count": null,
   "id": "861fe35e-4c69-4e75-b896-f28f59789f60",
   "metadata": {},
   "outputs": [],
   "source": []
  }
 ],
 "metadata": {
  "kernelspec": {
   "display_name": "Python 3 (ipykernel)",
   "language": "python",
   "name": "python3"
  },
  "language_info": {
   "codemirror_mode": {
    "name": "ipython",
    "version": 3
   },
   "file_extension": ".py",
   "mimetype": "text/x-python",
   "name": "python",
   "nbconvert_exporter": "python",
   "pygments_lexer": "ipython3",
   "version": "3.9.6"
  }
 },
 "nbformat": 4,
 "nbformat_minor": 5
}
