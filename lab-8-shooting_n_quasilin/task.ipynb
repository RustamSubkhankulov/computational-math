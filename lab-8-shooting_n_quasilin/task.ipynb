{
 "cells": [
  {
   "cell_type": "code",
   "execution_count": null,
   "id": "b9ada474-3650-40b3-8768-d9c9dd97e07b",
   "metadata": {},
   "outputs": [],
   "source": [
    "import matplotlib.pyplot as plt\n",
    "import numpy as np\n",
    "import scipy.optimize as op\n",
    "import matplotlib.cm as cm"
   ]
  },
  {
   "cell_type": "markdown",
   "id": "04daf650-f481-480f-ad0d-24f852f5acf7",
   "metadata": {},
   "source": [
    "## Решение нелинейной краевой задачи для уравнения второго порядка методами стрельбы и квазилинеаризации\n",
    "\n",
    "Получим численное решение следующей нелинейной краевой задачи.\n",
    "\n",
    "#### $y'' + \\frac{0,5}{1-0,5y}(y')^2=0, 0 < x <= 1$\n",
    "\n",
    "#### $y(0)=y_{0}, y(1)=0$\n",
    "\n",
    "#### $y_{0}=0,25; 0,5; 1; 1,5; 1,8; 1,9; 1,95$"
   ]
  },
  {
   "cell_type": "markdown",
   "id": "d82e3010-0ab7-4bdf-8f8e-e9793fbbbf8b",
   "metadata": {},
   "source": [
    "### Постановка задачи\n",
    "\n",
    "##### $y''=f(x,y,y'), 0<x<=1,$\n",
    "##### $y(0)=Y_{0}, y(1)=Y_{1}$"
   ]
  },
  {
   "cell_type": "code",
   "execution_count": null,
   "id": "bc5f7d15-9187-48b5-a107-83b3f1b4c4b8",
   "metadata": {},
   "outputs": [],
   "source": [
    "Y0 = [0.25, 0.5, 1, 1.5, 1.8, 1.9, 1.95]\n",
    "Y1 = 0"
   ]
  },
  {
   "cell_type": "markdown",
   "id": "00f64c02-71ce-44ac-b4e4-3ae812dcbad1",
   "metadata": {},
   "source": [
    "### Метод стрельбы\n",
    "\n",
    "Метод стрельбы для решения краевой задачи базируется на том, что имеются удобные способы численного решения задачи Коши, т. е. задачи\n",
    "\n",
    "##### $y''=f(x,y,y'), 0<x<=1$\n",
    "##### $y(0)=Y_{0}, y'(0)=\\alpha$\n",
    "\n",
    "В нашем случае: \n",
    "##### $y'_{1}(x)=y_2(x)$\n",
    "##### $y'_{2}(x)=\\frac{(0.5y_{2}'(x))^2}{0.5y_{1}(x)-1}$\n",
    "##### $y_{1}(0)=Y_{0}, y_{2}(0)=\\alpha$\n",
    "\n",
    "где $Y_{0}$ — ордината точки $(0, Y_{0})$, из которой выходит интегральная кривая; $\\alpha$ — пристрелочный параметр, можно считать, что он определяет угол наклона интегральной кривой к оси $x$ при выходе из точки $(0, Y_{0})$. При фиксированном $Y_{0}$ решение задачи Коши будет зависеть от пристрелочного параметра, $y=y(x,\\alpha)$. В дальнейшем будем считать такую зависимость непрерывной, хотя это не всегда так. При $x=1$ решение $y(x,\\alpha)$ зависит только от $\\alpha$:\n",
    "\n",
    "##### $y(x,\\alpha)|_{x=1}=y(1,\\alpha)$\n",
    "\n",
    "Найдём $\\alpha$ такой, что $y(1,\\alpha)=Y_{1}$. Задача свелась к решению уравнения:\n",
    "\n",
    "$F(\\alpha)=0, F(\\alpha)=y(1,\\alpha)-Y_{1}$\n",
    "\n",
    "В случае использования для решения уравнения $F(\\alpha)=0$ метода Ньютона очевидная реализация опирается на приемы, связанные с численным дифференцированием. Например, задаем $\\alpha$ а затем последующие $\\alpha_{n}$ вычисляем по рекуррентной формуле:\n",
    "\n",
    "#### $\\alpha_{n+1}=\\alpha_{n} - \\frac{F(\\alpha_{n})}{F'(\\alpha_{n})}, n=0,1,...$\n",
    "\n",
    "#### $F'(\\alpha_{n})=\\frac{F(\\alpha_{n} + h) - F(\\alpha_{n})}{h}$"
   ]
  },
  {
   "cell_type": "code",
   "execution_count": null,
   "id": "14e11494-d52f-4f15-bd62-71cd43e855e2",
   "metadata": {},
   "outputs": [],
   "source": [
    "def graph(x, y, filename, title):\n",
    "    \"\"\"\n",
    "    Build graph\n",
    "    \"\"\"\n",
    "    \n",
    "    plt.figure(figsize=[10, 4])\n",
    "    plt.plot(x, y, 'b-')\n",
    "    \n",
    "    plt.title(title)\n",
    "    plt.grid()\n",
    "    plt.xlabel('y')\n",
    "    plt.ylabel('x')\n",
    "\n",
    "    plt.savefig(filename)"
   ]
  },
  {
   "cell_type": "code",
   "execution_count": null,
   "id": "46afd32d-a2fa-4e6b-9989-7042db992ef2",
   "metadata": {},
   "outputs": [],
   "source": [
    "def f(x,y):\n",
    "    \"\"\"\n",
    "    ODE's right side\n",
    "    \"\"\"\n",
    "    return np.array([y[1],-(0.5 * y[1] * y[1])/(1 - 0.5 * y[0])])\n",
    "\n",
    "def rungekutta_iter(y, x, tau, idx):\n",
    "    k1 = tau * f(x[idx], y[idx])\n",
    "    k2 = tau * f(x[idx] + tau/2, y[idx] + k1/2)\n",
    "    k3 = tau * f(x[idx] + tau, y[idx] - k1 + 2 * k2)\n",
    "    return y[idx] + (k1 + 4 * k2 + k3) / 6\n",
    "\n",
    "def rungekutta(f,y0,x):\n",
    "    \"\"\"\n",
    "    Solving system of ODE with Runge-Kutta method\n",
    "    \"\"\"\n",
    "    n = len(x)\n",
    "    tau = x[1] - x[0]\n",
    "    y = np.zeros((n, len(y0)))\n",
    "    \n",
    "    y[0] = y0\n",
    "\n",
    "    for idx in range(n-1):\n",
    "        y[idx+1] = rungekutta_iter(y, x, tau, idx)\n",
    "\n",
    "    return y"
   ]
  },
  {
   "cell_type": "code",
   "execution_count": null,
   "id": "23cdf2c3-d77d-4951-82b3-0d7cd9130631",
   "metadata": {},
   "outputs": [],
   "source": [
    "def solve_сauchy(f, Y0, alpha):\n",
    "    \"\"\"\n",
    "    Solve Сauchy problem\n",
    "    \"\"\"\n",
    "    y0 = np.array([Y0, alpha])\n",
    "\n",
    "    # 0 < x <= 1\n",
    "    X = 1\n",
    "    # Number of points on (0,X] period\n",
    "    points_num = 1001\n",
    "    x = np.linspace(0, X, points_num)\n",
    "\n",
    "    # Solve ODE\n",
    "    sol = rungekutta(f, y0, x)\n",
    "    y = sol[:,0]\n",
    "    \n",
    "    # y(1,alpha)\n",
    "    y_1 = y[-1]\n",
    "    \n",
    "    return x, sol[:,0], y_1\n",
    "\n",
    "def solve_shooting(f, Y0, Y1, eps, alpha):\n",
    "    \"\"\"\n",
    "    Solve problem using Shooting method\n",
    "    \"\"\"\n",
    "    # Numerical derivation step\n",
    "    h = 1e-5\n",
    "\n",
    "    x = []\n",
    "    y = []\n",
    "    \n",
    "    while(True):\n",
    "\n",
    "        # Find y(1, alpha) and y(1, alpha + h)\n",
    "        x, y, y_1_alpha = solve_сauchy(f, Y0, alpha)\n",
    "        _, _, y_1_alpha_h = solve_сauchy(f, Y0, alpha + h)\n",
    "\n",
    "        # F(alpha_n)\n",
    "        F_alpha_n = y_1_alpha - Y1 \n",
    "\n",
    "        # Stop if needed precision is achieved\n",
    "        if abs(F_alpha_n) < eps:\n",
    "            break\n",
    "        \n",
    "        # F(alpha_n + h)\n",
    "        F_alpha_n_h = y_1_alpha_h - Y1\n",
    "\n",
    "        # Numerical derivative\n",
    "        F_alpha_n_der = (F_alpha_n_h - F_alpha_n) / h\n",
    "\n",
    "        # Next alpha\n",
    "        alpha = alpha - F_alpha_n / F_alpha_n_der\n",
    "\n",
    "    return x, y"
   ]
  },
  {
   "cell_type": "code",
   "execution_count": null,
   "id": "009808c1-80ad-4f00-a661-a15f3174035a",
   "metadata": {},
   "outputs": [],
   "source": [
    "for ind in range(len(Y0)):\n",
    "    x, y = solve_shooting(f, Y0[ind], Y1, 1e-6, 0.1)\n",
    "    graph(x, y, f\"pictures/shooting{ind}.png\", f\"Y0={Y0[ind]}\")"
   ]
  },
  {
   "cell_type": "markdown",
   "id": "d529393b-8929-44c8-bfe8-e81ef10d7d14",
   "metadata": {},
   "source": [
    "<img src=\"pictures/shooting0.png\" alt=\"shooting0\"/>\n",
    "<img src=\"pictures/shooting1.png\" alt=\"shooting1\"/>\n",
    "<img src=\"pictures/shooting2.png\" alt=\"shooting2\"/>\n",
    "<img src=\"pictures/shooting3.png\" alt=\"shooting3\"/>\n",
    "<img src=\"pictures/shooting4.png\" alt=\"shooting4\"/>\n",
    "<img src=\"pictures/shooting5.png\" alt=\"shooting5\"/>\n",
    "<img src=\"pictures/shooting6.png\" alt=\"shooting6\"/>"
   ]
  },
  {
   "cell_type": "markdown",
   "id": "8a52d7ce-b0e9-43c0-ae30-f324274d028b",
   "metadata": {},
   "source": [
    "### Метод квазилинеаризации"
   ]
  },
  {
   "cell_type": "code",
   "execution_count": null,
   "id": "523b2c1a-83dd-493e-94a6-84dc8873a67f",
   "metadata": {},
   "outputs": [],
   "source": []
  }
 ],
 "metadata": {
  "kernelspec": {
   "display_name": "Python 3 (ipykernel)",
   "language": "python",
   "name": "python3"
  },
  "language_info": {
   "codemirror_mode": {
    "name": "ipython",
    "version": 3
   },
   "file_extension": ".py",
   "mimetype": "text/x-python",
   "name": "python",
   "nbconvert_exporter": "python",
   "pygments_lexer": "ipython3",
   "version": "3.9.6"
  }
 },
 "nbformat": 4,
 "nbformat_minor": 5
}
