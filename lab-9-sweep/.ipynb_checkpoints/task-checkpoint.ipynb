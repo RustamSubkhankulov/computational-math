{
 "cells": [
  {
   "cell_type": "code",
   "execution_count": null,
   "id": "2c2d9746-4a02-4012-ac30-8ac16c620c04",
   "metadata": {},
   "outputs": [],
   "source": [
    "import matplotlib.pyplot as plt\n",
    "import numpy as np"
   ]
  },
  {
   "cell_type": "markdown",
   "id": "f6a81218-3b8d-4abe-bdb4-025049fc1470",
   "metadata": {},
   "source": [
    "### Метод прогонки"
   ]
  },
  {
   "cell_type": "markdown",
   "id": "32bc1ad3-471d-419d-827f-c2b41b5351f9",
   "metadata": {},
   "source": [
    "<img src='pictures/task.png' width=600 alt='task'>"
   ]
  },
  {
   "cell_type": "markdown",
   "id": "faef907f-4947-46b4-8ad7-7772c40435ea",
   "metadata": {},
   "source": [
    "#### Для численного отыскания периодического с периодом единица решения уравнения"
   ]
  },
  {
   "cell_type": "markdown",
   "id": "31e46221-ff98-4aa3-b480-0abc2fc9d9c7",
   "metadata": {},
   "source": [
    "<img src='pictures/sol1.png' width=600 alt='sol1'>"
   ]
  },
  {
   "cell_type": "markdown",
   "id": "6ea5b5ea-ce9d-4102-8081-cca45b77b648",
   "metadata": {},
   "source": [
    "#### Рассмотрим следующую краевую задачу для уравнения:"
   ]
  },
  {
   "cell_type": "markdown",
   "id": "76fdec76-15df-438d-a5a0-86928a3dd860",
   "metadata": {},
   "source": [
    "<img src='pictures/sol2.png' width=600 alt='sol2'>"
   ]
  },
  {
   "cell_type": "markdown",
   "id": "6abaa42a-706b-47fe-818a-20225c75b495",
   "metadata": {},
   "source": [
    "<img src='pictures/sol3.png' width=600 alt='sol3'>"
   ]
  },
  {
   "cell_type": "markdown",
   "id": "960a8e34-9e6e-459f-973f-d0685875a3c2",
   "metadata": {},
   "source": [
    "<img src='pictures/sol4.png' width=600 alt='sol4'>"
   ]
  },
  {
   "cell_type": "markdown",
   "id": "71c456c7-370e-4d6e-b19f-dcdb067d991b",
   "metadata": {},
   "source": [
    "#### Коэффициенты в изначальной разностной схеме"
   ]
  },
  {
   "cell_type": "markdown",
   "id": "2f0fe4c6-a198-4253-85f6-6659be5daf9a",
   "metadata": {},
   "source": [
    "<img src='pictures/coef1.png' width=600 alt='coef1'>"
   ]
  },
  {
   "cell_type": "code",
   "execution_count": null,
   "id": "69a08c1d-0d56-4b76-83b3-8392c243e835",
   "metadata": {},
   "outputs": [],
   "source": [
    "h = 0.005    # Step\n",
    "N = int(1/h) # Number of point on period\n",
    "\n",
    "# Abscissa axis\n",
    "x = np.array(np.linspace(0, 1, N))\n",
    "\n",
    "# p(x)\n",
    "p = np.zeros(N)\n",
    "\n",
    "# q(x)\n",
    "q = np.array([-(10 + np.sin(2 * np.pi * x_k)) for x_k in x])\n",
    "\n",
    "# f(x)\n",
    "f = np.array([np.cos(2 * np.pi * x_k) for x_k in x])"
   ]
  },
  {
   "cell_type": "markdown",
   "id": "b433df9d-a49a-465e-b1ba-d4fa4268a97f",
   "metadata": {},
   "source": [
    "#### Пересчитаем коэффициенты системы сеточных соотношений"
   ]
  },
  {
   "cell_type": "markdown",
   "id": "97e709a5-aa55-4d47-9dcf-2e6bd93ab015",
   "metadata": {},
   "source": [
    "<img src='pictures/coef2.png' width=400 alt='coef2'>"
   ]
  },
  {
   "cell_type": "code",
   "execution_count": null,
   "id": "0d89957c-f57a-4bc4-9e09-d218ae9c6b08",
   "metadata": {},
   "outputs": [],
   "source": [
    "a  = np.array([1 - 0.5 * p_k * h  for p_k in p])\n",
    "b  = np.array([2 - q_k * pow(h,2) for q_k in q])\n",
    "c  = np.array([1 + 0.5 * p_k * h  for p_k in p])\n",
    "fi = np.array([f_k * pow(h,2)     for f_k in f])"
   ]
  },
  {
   "cell_type": "markdown",
   "id": "4bf0ff1f-a2ba-4f60-898d-c8329c17ad1c",
   "metadata": {},
   "source": [
    "#### Рассчитаем прогоночные коэффициенты"
   ]
  },
  {
   "cell_type": "markdown",
   "id": "ee101ef7-c42b-4994-99c1-e701040d86b0",
   "metadata": {},
   "source": [
    "<img src='pictures/coef3.png' width=250 alt='coef3'>\n",
    "<img src='pictures/coef4.png' width=300 alt='coef4'>\n",
    "<img src='pictures/coef5.png' width=500 alt='coef5'>"
   ]
  },
  {
   "cell_type": "code",
   "execution_count": null,
   "id": "a8803e82-9a1a-4f41-8ee1-7c7977659ed9",
   "metadata": {},
   "outputs": [],
   "source": [
    "alpha = np.zeros(N)\n",
    "beta  = np.zeros(N)\n",
    "gamma = np.zeros(N)\n",
    "\n",
    "alpha[1] =    c[0] / b[0]\n",
    "beta [1] = - fi[0] / b[0]\n",
    "gamma[1] =    a[0] / b[0]\n",
    "\n",
    "for k in range(1, N - 1):\n",
    "    denominator = b[k] - alpha[k] * a[k]\n",
    "    alpha[k+1] =                     c[k] / denominator\n",
    "    beta [k+1] = (a[k] * beta[k] - fi[k]) / denominator\n",
    "    gamma[k+1] =        (a[k] * gamma[k]) / denominator"
   ]
  },
  {
   "cell_type": "markdown",
   "id": "82be805f-c6cf-4e57-aa28-2091b746ccd8",
   "metadata": {},
   "source": [
    "#### Конечные рекуррентные соотношения"
   ]
  },
  {
   "cell_type": "markdown",
   "id": "db398479-7840-4693-945b-3f0fc3b96098",
   "metadata": {},
   "source": [
    "<img src='pictures/coef6.png' width=500 alt='coef6'>\n",
    "<img src='pictures/coef7.png' width=500 alt='coef7'>"
   ]
  },
  {
   "cell_type": "code",
   "execution_count": null,
   "id": "07a28e09-59b9-421a-b8f0-b26e5af6dc77",
   "metadata": {},
   "outputs": [],
   "source": [
    "mu = np.zeros(N)\n",
    "nu = np.zeros(N)\n",
    "\n",
    "denominator = a[N-1] * (alpha[N-1] + gamma[N-1]) - b[N-1]\n",
    "mu[N - 1] =                       - c[N-1] / denominator\n",
    "nu[N - 1] = (fi[N-1] - a[N-1] * beta[N-1]) / denominator\n",
    "\n",
    "for k in range(N-1, 0, -1):\n",
    "    mu[k-1] = alpha[k] * mu[k] + gamma[k] * mu[N-1]\n",
    "    nu[k-1] = beta[k] + alpha[k] * nu[k] + gamma[k] * nu[N-1]"
   ]
  },
  {
   "cell_type": "markdown",
   "id": "38773b4a-721f-4621-9ce2-2628748367ee",
   "metadata": {},
   "source": [
    "#### Прогонка - находим решение"
   ]
  },
  {
   "cell_type": "markdown",
   "id": "af754596-26ea-48ff-94ab-5dd30969becc",
   "metadata": {},
   "source": [
    "<img src='pictures/final.png' width=450 alt='final'>"
   ]
  },
  {
   "cell_type": "code",
   "execution_count": null,
   "id": "86f0671f-fd89-4933-8026-dcb42ac3b70c",
   "metadata": {},
   "outputs": [],
   "source": [
    "y = np.zeros(N)\n",
    "\n",
    "y[0]   = nu[0] / (1 - mu[0])\n",
    "y[N-1] = mu[N-1] * y[0] + nu[N-1]\n",
    "\n",
    "for k in range(N-1, 0, -1):\n",
    "    y[k-1] = alpha[k] * y[k] + beta[k] + gamma[k] * y[N-1]"
   ]
  },
  {
   "cell_type": "markdown",
   "id": "a75b355f-6885-465e-a2ae-968085feb1ee",
   "metadata": {},
   "source": [
    "#### Строим график"
   ]
  },
  {
   "cell_type": "code",
   "execution_count": null,
   "id": "86d3d9ed-29f3-4852-82a0-3aa48837ee81",
   "metadata": {},
   "outputs": [],
   "source": [
    "def graph(x, y, filename, title):\n",
    "    \"\"\"\n",
    "    Build graph\n",
    "    \"\"\"\n",
    "    \n",
    "    plt.figure(figsize=[10, 4])\n",
    "    plt.plot(x, y, 'b-')\n",
    "    \n",
    "    plt.title(title)\n",
    "    plt.grid()\n",
    "    plt.xlabel('x')\n",
    "    plt.ylabel('y')\n",
    "\n",
    "    plt.savefig(filename)\n",
    "\n",
    "graph(x, y, 'pictures/graph.png', 'Sweep method')"
   ]
  },
  {
   "cell_type": "markdown",
   "id": "a2b624fd-c92c-479d-b7de-6c785f26aa45",
   "metadata": {},
   "source": [
    "<img src='pictures/graph.png' width=800 alt='graph'>"
   ]
  },
  {
   "cell_type": "code",
   "execution_count": null,
   "id": "6b3e92d4-4585-4710-8c14-15a5000445d2",
   "metadata": {},
   "outputs": [],
   "source": [
    "# Several periods of the solution\n",
    "periods_num = 4\n",
    "\n",
    "# Abscissa axis\n",
    "x_ext = np.array(np.linspace(0, 1 * periods_num, N * periods_num))\n",
    "\n",
    "# Ordinate axis\n",
    "y_ext = np.tile(y, periods_num)\n",
    "\n",
    "graph(\n",
    "    x_ext, \n",
    "    y_ext, \n",
    "    'pictures/graph_ext.png', \n",
    "    f\"Sweep method, {periods_num} periods\"\n",
    ")"
   ]
  },
  {
   "cell_type": "markdown",
   "id": "bf48cbcf-ba52-4aee-b06d-88196b877f76",
   "metadata": {},
   "source": [
    "<img src='pictures/graph_ext.png' width=800 alt='graph_ext'>"
   ]
  },
  {
   "cell_type": "code",
   "execution_count": null,
   "id": "5c5d714a-87e3-4cd0-b630-1d3ba2a378ef",
   "metadata": {},
   "outputs": [],
   "source": []
  }
 ],
 "metadata": {
  "kernelspec": {
   "display_name": "Python 3 (ipykernel)",
   "language": "python",
   "name": "python3"
  },
  "language_info": {
   "codemirror_mode": {
    "name": "ipython",
    "version": 3
   },
   "file_extension": ".py",
   "mimetype": "text/x-python",
   "name": "python",
   "nbconvert_exporter": "python",
   "pygments_lexer": "ipython3",
   "version": "3.9.6"
  }
 },
 "nbformat": 4,
 "nbformat_minor": 5
}
